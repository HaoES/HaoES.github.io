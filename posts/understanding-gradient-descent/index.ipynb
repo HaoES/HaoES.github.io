{
 "cells": [
  {
   "cell_type": "raw",
   "id": "edff32a1-000e-49cf-ba5a-98674805618b",
   "metadata": {},
   "source": [
    "---\n",
    "title: \"Understanding Gradient Descent\"\n",
    "author: \"Hamza ES-SAMAALI\"\n",
    "date: \"2023-04-03\"\n",
    "categories: [gradient, descent, neural, network]\n",
    "image: \"gradient.png\"\n",
    "---"
   ]
  },
  {
   "cell_type": "markdown",
   "id": "2963b786-9751-46f0-8d4d-626586420a2e",
   "metadata": {},
   "source": [
    "As you know I am currently doing [fast.ai course](https://course.fast.ai/). And I decided to take my time doing [Lesson 3](https://course.fast.ai/Lessons/lesson3.html) because it's about a very important topic: \"Gradient Descent\".  \n",
    "\n",
    "I've done many ML courses by the past ([Andrew Ng's Course](https://www.coursera.org/specializations/machine-learning-introduction), [Aurelien Geron's book](https://www.amazon.com/Hands-Machine-Learning-Scikit-Learn-TensorFlow/dp/1098125975/ref=d_pd_sbs_sccl_2_1/139-3854688-3823900?pd_rd_w=qKCdj&content-id=amzn1.sym.3676f086-9496-4fd7-8490-77cf7f43f846&pf_rd_p=3676f086-9496-4fd7-8490-77cf7f43f846&pf_rd_r=RQ6W6GPVRRVN6X7H0NZ6&pd_rd_wg=Xb4Yv&pd_rd_r=0de48993-d09b-4e3a-9a96-b5c192323161&pd_rd_i=1098125975&psc=1), etc...) and each of these helped me understand what gradient descent was to a certain extent. But now I can confidently say that I've finally grasped what Gradient Descent is truly about.  \n",
    "\n",
    "You too can achieve the same understanding by following the steps I did:  \n",
    "\n",
    "- Watch the lesson 3 video and follow with Jeremy  \n",
    "\n",
    "- Read Chapter 4 of the fastai book  \n",
    "\n",
    "- Watch Andrej Karpathy's amazing video: [The spelled-out intro to neural networks and backpropagation: building micrograd](https://www.youtube.com/watch?v=VMj-3S1tku0&ab_channel=AndrejKarpathy)  \n",
    "\n",
    "\n",
    "I can't stress enough how amazing Andrej's video is!!! It's a perfect complementary material to fast.ai's lesson 3, and he goes step by step on how to build micrograd which is an autograd engine.  \n",
    "\n",
    "Don't forget to write the code along with both Jeremy and Andrej.  \n",
    "\n",
    "Do this and you will have understood how Gradient Descent works and you will know how to implement it too."
   ]
  }
 ],
 "metadata": {
  "kernelspec": {
   "display_name": "Python 3 (ipykernel)",
   "language": "python",
   "name": "python3"
  },
  "language_info": {
   "codemirror_mode": {
    "name": "ipython",
    "version": 3
   },
   "file_extension": ".py",
   "mimetype": "text/x-python",
   "name": "python",
   "nbconvert_exporter": "python",
   "pygments_lexer": "ipython3",
   "version": "3.10.8"
  }
 },
 "nbformat": 4,
 "nbformat_minor": 5
}
