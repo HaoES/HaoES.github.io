{
 "cells": [
  {
   "cell_type": "raw",
   "id": "a16aa229-580a-4aea-a9be-a5f1b8d736a9",
   "metadata": {},
   "source": [
    "---\n",
    "title: \"Why Blogging? (and How?)\"\n",
    "author: \"Hamza Es-samaali\"\n",
    "listing: default\n",
    "date: \"2023-02-03\"\n",
    "categories: [blogging, quarto, jupyter, fastai]\n",
    "image: \"Blog.jpg\"\n",
    "---"
   ]
  },
  {
   "cell_type": "markdown",
   "id": "a516c3d2-a3c1-4645-908e-a9affdbe5e94",
   "metadata": {},
   "source": [
    "I've had a complex relationship with blogging. I've always wanted to blog but found it too much of a hassle.\n",
    "\n",
    "Then I stumbled upon this [post](https://medium.com/@racheltho/why-you-yes-you-should-blog-7d2544ac1045) and decided to start my own blog documenting my journey as a Machine Learning enthusiast.  \n",
    "  \n",
    "This blog will principally be a way for me to digest what I've learned (the best way of learning is teaching), share my thoughts and the projects I do. \n",
    "\n",
    "I had two main choices for blogging, the first is [Medium](https://medium.com/) and the second is through [Github Pages](https://pages.github.com/).   \n",
    "For no explainable reason I never liked Medium maybe because of the annoying reading limit it has when it asks you to connect (I hold grudges easily). As for Github Pages, I found Jekyll too much of a pain to deal with, too lazy to learn its intricacies. \n",
    "\n",
    "Fortunately this year I decided to start the famous [fast.ai course](https://course.fast.ai/) and Jeremy kept talking about [Quarto](https://quarto.org/) and how it generates blog posts from Jupyter Notebooks. I also stumbled upon this [blog](https://chrwittm.github.io/) of a fellow fast.ai student and used his posts to create my own blog.  \n",
    "\n",
    "So let me share with you How I did it:  \n",
    "\n"
   ]
  },
  {
   "cell_type": "markdown",
   "id": "4419ad7b-dad2-46eb-b12b-3b33f989e1a7",
   "metadata": {},
   "source": [
    "# Step 1: Create a new GitHub repo"
   ]
  },
  {
   "cell_type": "markdown",
   "id": "64138bd3-7a26-4f7c-92ed-c9ac840a40f2",
   "metadata": {},
   "source": [
    "Quarto is using GitHub Pages. So first you need to create a repository for your blog:  \n",
    "Follow [steps 1 and 2](https://pages.github.com/) on the GitHub Pages homepage for the initial setup.  \n",
    "> Note: The default recommendation for the repo is `<your username>.github.io`. Apprently you can choose anything else you want, but I had issues with that, so to be safe just use the recommendation.  "
   ]
  },
  {
   "cell_type": "markdown",
   "id": "b5bc63c3-3dbd-4df2-8731-e52798df0c91",
   "metadata": {},
   "source": [
    "You now have an empty repo with maybe (if you checked the box) just a `README.md` file.  \n",
    "Now we need to clone our repo to our local machine using the command in terminal:   \n"
   ]
  },
  {
   "cell_type": "markdown",
   "id": "c606f5fa-b3dc-4712-8f7d-fa402fbc86d0",
   "metadata": {},
   "source": [
    "`git clone git@github.com:<your-username>/<your-username>.github.io.git`"
   ]
  },
  {
   "cell_type": "markdown",
   "id": "6810fa6a-6812-45ac-a1e3-c5ffc73463c4",
   "metadata": {},
   "source": [
    "Now we need to two more steps to finalize our repo creation:  \n",
    "- [Create a new branch called](https://docs.github.com/en/pull-requests/collaborating-with-pull-requests/proposing-changes-to-your-work-with-pull-requests/creating-and-deleting-branches-within-your-repository) `gh-pages`. \n",
    "- Set the new branch as the branch for GitHub Pages. In your repo, navigate to `Settings -> Pages.` and Change `main` to `gh-pages`, don't forget to click `save`."
   ]
  },
  {
   "cell_type": "markdown",
   "id": "fb9dd28f-4ff2-4002-9a97-2d00127e5840",
   "metadata": {},
   "source": [
    "![gh-pages](branch.jpg)"
   ]
  },
  {
   "cell_type": "markdown",
   "id": "da9b75a8-3944-46e0-8397-3dd71d0a9ed7",
   "metadata": {},
   "source": [
    "# Step 2: Installing Quarto"
   ]
  },
  {
   "cell_type": "markdown",
   "id": "7095797e-d3cf-4c60-a5d7-b70da801835c",
   "metadata": {},
   "source": [
    "I am currently working on a Windows 10 machine and I am using WSL (Ubuntu 20.04).  \n",
    "As I said I am currently doing the fast.ai course, so I am using [mamba](https://mamba.readthedocs.io/en/latest/installation.html)"
   ]
  },
  {
   "cell_type": "markdown",
   "id": "8b3320df-9548-4566-b7f6-6a61cc2e6c56",
   "metadata": {},
   "source": [
    "I highly recommend that you use mamba it's faster than conda, to know more about it check the [mamba user guide](https://mamba.readthedocs.io/en/latest/user_guide/mamba.html)"
   ]
  },
  {
   "cell_type": "markdown",
   "id": "93066fa7-c88d-48cb-a305-f2508497c036",
   "metadata": {},
   "source": [
    "## Installing Quarto in WSL"
   ]
  },
  {
   "cell_type": "markdown",
   "id": "396cc5d1-edc4-4dd3-a452-00357d7e1ce5",
   "metadata": {},
   "source": [
    "to install Quarto in WSL (or Ubuntu) via `nbdev` use:  \n",
    "```\n",
    "mamba install -c fastchan nbdev  \n",
    "nbdev_install_quarto\n",
    "```"
   ]
  },
  {
   "cell_type": "markdown",
   "id": "82a0cbf6-e78e-463c-a976-01bf056b1682",
   "metadata": {},
   "source": [
    "# Step 3: Initial setup to publish your fist blog post"
   ]
  },
  {
   "cell_type": "markdown",
   "id": "39b1522f-e4f9-42d8-ae5f-0c97090cd9b1",
   "metadata": {},
   "source": [
    "You are now ready to publish your first blog post!  \n",
    "In the command line, navigate to the directory of your repo, and run the following commands, and the example content for the Quarto blog should be published to your repo.  \n",
    "```\n",
    "quarto create-project --type website:blog\n",
    "quarto publish gh-pages\n",
    "```\n"
   ]
  },
  {
   "cell_type": "markdown",
   "id": "969f92be-b12a-4204-94c8-f64a70f3af2e",
   "metadata": {},
   "source": [
    "Once done, you can consult your blog at: `https://<your_username>.github.io/`  \n",
    "  \n",
    "\n",
    "For some more background on what is happening with these two commands, please refer to this [this page](https://quarto.org/docs/websites/website-blog.html) (choose “Terminal”) and [this page.](https://quarto.org/docs/publishing/github-pages.html#publish-command)"
   ]
  },
  {
   "cell_type": "markdown",
   "id": "30f0b420-a138-455c-9a80-816377b29714",
   "metadata": {},
   "source": [
    "Now that your website is online, it's time to write your own first post.  \n",
    "To do this navigate to the `posts` directory and create a new folder ex. `Why-blogging`.  \n",
    "Within this folder, create a notebook called `index.ipynb`.  \n",
    "Now make sure the first cell is in `RAW` and fill it with the metadata related to your post like this:\n",
    "```\n",
    "---\n",
    "title: \"Hello World\"\n",
    "author: \"Your Name\"\n",
    "date: \"2023-01-01\"\n",
    "---\n",
    "```"
   ]
  },
  {
   "cell_type": "markdown",
   "id": "1fcacf28-b24a-4fae-b091-12a458eff767",
   "metadata": {},
   "source": [
    "![raw](raw.jpg)"
   ]
  },
  {
   "cell_type": "markdown",
   "id": "63ec9172-e0f8-473f-b565-3bbc85bd0cdb",
   "metadata": {},
   "source": [
    "Now republish your blog:  \n",
    "```\n",
    "quarto publish gh-pages\n",
    "```"
   ]
  },
  {
   "cell_type": "markdown",
   "id": "97222bce-585d-45b7-aa94-beba7950a229",
   "metadata": {},
   "source": [
    "Voilà, you just published your first blog post, Congratulations!"
   ]
  },
  {
   "cell_type": "markdown",
   "id": "201ee1b7-7c34-4bbb-ba34-325b1f661046",
   "metadata": {},
   "source": [
    "# Step 4: Backing up your blog"
   ]
  },
  {
   "cell_type": "markdown",
   "id": "865eb064-37c8-4848-b6d2-0ed1aaf3b831",
   "metadata": {},
   "source": [
    "When you run `quarto publish gh-pages`, your blog posts are rendered, and only those rendered versions are pushed to git in branch `gh-pages`.  \n",
    "Your actual notebooks are **not** uploaded to GitHub.  \n",
    "Also any config you make to the blog etc. is uploaded in the rendered versions only. So if something were to happen to your local files, your work would be lost.  \n",
    "\n",
    "Therefore, I would recommend to also upload the “source”-files to GitHub (in the main branch):"
   ]
  },
  {
   "cell_type": "markdown",
   "id": "d3423f47-7833-41ed-b7bb-520f7c0b0250",
   "metadata": {},
   "source": [
    "First, make sure you are on the main branch: `git checkout main`"
   ]
  },
  {
   "cell_type": "markdown",
   "id": "13497e9c-6058-44c8-ade5-6256295ffdc5",
   "metadata": {},
   "source": [
    "Then navigate to the directory of your blog `your_username.github.io` "
   ]
  },
  {
   "cell_type": "markdown",
   "id": "4a726c42-a5a8-4df6-9fde-0ddaf8e4104f",
   "metadata": {},
   "source": [
    "Now use the following commands to push all the source files of your blog to the main branch:  \n",
    "    \n",
    "```\n",
    "git add .\n",
    "git commit -m \"updated source files\"\n",
    "git push\n",
    "```\n",
    "Now your source files are in the `main` branch and your rendered blog files are in the `gh-pages` branch, everything is good!"
   ]
  },
  {
   "cell_type": "markdown",
   "id": "ec34fdff-ccf2-4aa4-babe-f55f9d1838e0",
   "metadata": {},
   "source": [
    "# Additional Steps:"
   ]
  },
  {
   "cell_type": "markdown",
   "id": "d773abe6-44a5-49f6-b793-a989d89834f0",
   "metadata": {},
   "source": [
    "You can edit the following files with your favorite text editor to customize your blog:\n",
    "```\n",
    "_quarto.yml\n",
    "about.qmd\n",
    "index.qmd\n",
    "```\n",
    "If you want to customize your blog further please refer to this very extensive [blog post](https://albert-rapp.de/posts/13_quarto_blog_writing_guide/13_quarto_blog_writing_guide.html)  \n"
   ]
  },
  {
   "cell_type": "markdown",
   "id": "45c7a0c0-59f8-4fde-a623-400cfde2a18b",
   "metadata": {},
   "source": [
    "# Conclusion:"
   ]
  },
  {
   "cell_type": "markdown",
   "id": "ae373ea6-28cf-4ff6-8940-eeb44f7d0f1e",
   "metadata": {},
   "source": [
    "Setting up the blog is simple and straight forward, and creating new posts is easy and intuitive thank to the support for Jupyter Notebooks.  \n",
    "Good luck on your journey!"
   ]
  },
  {
   "cell_type": "code",
   "execution_count": null,
   "id": "3d12212d-50ad-45b0-8256-ad1a8e4c34b0",
   "metadata": {},
   "outputs": [],
   "source": []
  }
 ],
 "metadata": {
  "kernelspec": {
   "display_name": "Python 3 (ipykernel)",
   "language": "python",
   "name": "python3"
  },
  "language_info": {
   "codemirror_mode": {
    "name": "ipython",
    "version": 3
   },
   "file_extension": ".py",
   "mimetype": "text/x-python",
   "name": "python",
   "nbconvert_exporter": "python",
   "pygments_lexer": "ipython3",
   "version": "3.10.8"
  }
 },
 "nbformat": 4,
 "nbformat_minor": 5
}
